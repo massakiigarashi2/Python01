{
  "nbformat": 4,
  "nbformat_minor": 0,
  "metadata": {
    "colab": {
      "name": "AD12_ImportCSVdatasetFromGITHUB.ipynb",
      "private_outputs": true,
      "provenance": [],
      "authorship_tag": "ABX9TyOJZYl6aGDaroWJoGFE7GCX",
      "include_colab_link": true
    },
    "kernelspec": {
      "name": "python3",
      "display_name": "Python 3"
    },
    "language_info": {
      "name": "python"
    }
  },
  "cells": [
    {
      "cell_type": "markdown",
      "metadata": {
        "id": "view-in-github",
        "colab_type": "text"
      },
      "source": [
        "<a href=\"https://colab.research.google.com/github/massakiigarashi2/Python2022/blob/main/AD12_ImportCSVdatasetFromGITHUB.ipynb\" target=\"_parent\"><img src=\"https://colab.research.google.com/assets/colab-badge.svg\" alt=\"Open In Colab\"/></a>"
      ]
    },
    {
      "cell_type": "markdown",
      "source": [
        "#**DICA:**\n",
        "Ao efetuar upload do arquivo, clique no arquivo .CSV e ao abrir o arquivo sem nada, aparecerá a opão \"View RAW\", basta clicar nela para que ele gere um link com caminho iniciando por: https://raw.githubusercontent.com/SEU_REPOSITÓRIO....\n"
      ],
      "metadata": {
        "id": "uzSzzaH7E3eo"
      }
    },
    {
      "cell_type": "code",
      "source": [
        "import pandas as pd\n",
        "url = 'https://raw.githubusercontent.com/massakiigarashi2/Python2022/1b60cfe89a833b7c3ec3be3d2f1a9a840705660e/Salaries.csv'\n",
        "df = pd.read_csv(url)\n",
        "df.head()"
      ],
      "metadata": {
        "id": "Pc65htyaBvP_"
      },
      "execution_count": null,
      "outputs": []
    },
    {
      "cell_type": "markdown",
      "source": [
        ""
      ],
      "metadata": {
        "id": "P4B9tOVSE2mG"
      }
    }
  ]
}