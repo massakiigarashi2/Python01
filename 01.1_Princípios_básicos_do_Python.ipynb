{
  "nbformat": 4,
  "nbformat_minor": 0,
  "metadata": {
    "colab": {
      "name": "AD11_Princípios básicos do Python.ipynb",
      "provenance": [],
      "collapsed_sections": [],
      "toc_visible": true,
      "authorship_tag": "ABX9TyNzQX+nsUxYqrNCPeGng8Yy",
      "include_colab_link": true
    },
    "kernelspec": {
      "name": "python3",
      "display_name": "Python 3"
    },
    "language_info": {
      "name": "python"
    }
  },
  "cells": [
    {
      "cell_type": "markdown",
      "metadata": {
        "id": "view-in-github",
        "colab_type": "text"
      },
      "source": [
        "<a href=\"https://colab.research.google.com/github/massakiigarashi2/Python2022/blob/main/AD11_Princ%C3%ADpios_b%C3%A1sicos_do_Python.ipynb\" target=\"_parent\"><img src=\"https://colab.research.google.com/assets/colab-badge.svg\" alt=\"Open In Colab\"/></a>"
      ]
    },
    {
      "cell_type": "markdown",
      "metadata": {
        "id": "wpXtXaP7F29S"
      },
      "source": [
        "### LINHAS DE **CÓDIGO** DO PROGRAMA"
      ]
    },
    {
      "cell_type": "markdown",
      "metadata": {
        "id": "BIogzHYlLkwN"
      },
      "source": [
        "### Título em **negrito**.\n",
        "## Sub-título em *itálico*.\n",
        "Texto ~tachado~."
      ]
    },
    {
      "cell_type": "markdown",
      "metadata": {
        "id": "zy3RjCseP1iU"
      },
      "source": [
        "# **Passo 0) TEXTO MARKDOWN:** \n",
        "## **Inserindo equações matemáticas**"
      ]
    },
    {
      "cell_type": "markdown",
      "metadata": {
        "id": "QbBo7RqtN1Up"
      },
      "source": [
        "## Exemplo 1:\n",
        "$x ∈ [-5, 5]$\n",
        "\n",
        "## Exemplo 2:\n",
        "$\\sqrt{3x-1}+(1+x)^2$\n",
        "\n",
        "## Exemplo 3:\n",
        "$e^x=\\sum_{i=0}^\\infty \\frac{1}{i!}x^i$\n",
        "\n",
        "## Exmeplo 4:\n",
        " - $3x_1 + 6x_2 + x_3 =< 28$\n",
        " - $7x_1 + 3x_2 + 2x_3 =< 37$\n",
        " - $4x_1 + 5x_2 + 2x_3 =< 19$\n",
        " - $x_1,x_2,x_3 >=0 $\n",
        "\n",
        " ## Exemplo 5: Vetores\n",
        " $u_i(t) = x_i(t) + \\beta(\\hat{x}(t) − x_i(t)) + \\beta \\sum_{k = 1}^{n\n",
        " _v}(x_{i1,k}(t) − x_{i2,k}(t))$\n",
        "\n",
        " $f(x_1, x_2) = 20 + e - 20exp(-0.2 \\sqrt {\\frac {1}{n} (x_1^2 + x_2^2)}) - exp\n",
        "(\\frac {1}{n}(cos(2\\pi x_1) + cos(2\\pi x_2))$\n",
        "\n",
        "\n",
        "## Exemplo 6: Matriz\n",
        ">$A_{m,n} =\n",
        "\\begin{pmatrix}\n",
        " a_{1,1} & a_{1,2} & \\cdots & a_{1,n} \\\\\n",
        " a_{2,1} & a_{2,2} & \\cdots & a_{2,n} \\\\\n",
        " \\vdots & \\vdots & \\ddots & \\vdots \\\\\n",
        " a_{m,1} & a_{m,2} & \\cdots & a_{m,n}\n",
        "\\end{pmatrix}$"
      ]
    },
    {
      "cell_type": "markdown",
      "source": [
        "# Exibindo **RESULTADO** de cálculo e **CONCATENANDO TEXTO**"
      ],
      "metadata": {
        "id": "hkLzW8HFSopO"
      }
    },
    {
      "cell_type": "markdown",
      "source": [
        "# O primeiro passo para entender Python é entender que **PYTHON é** fundamentalmente ***Programação Orientada a Objetos*** \n",
        "[REF01](https://www.dio.me/articles/5-minutos-aprenda-orientacao-a-objetos)\n",
        "[REF02](https://panda.ime.usp.br/aulasPython/static/aulasPython/aula17.html)\n",
        "## *Por isso precisamos entender os segUintes conceitos:*\n",
        "# Classes\n",
        "\n",
        "* Objetos\n",
        "* Propriedades/Atributos\n",
        "* Métodos\n",
        "* Herança\n",
        "* Classe abstrata\n",
        "* Polimorfismo\n",
        "\n",
        "A capacidade de representar e abstrair conceitos é fundamental para o nosso pensamento, tornando possível a generalização de coisas e a construção de conceitos cada vez mais complexos. Por isso, na evolução das linguagens de programação, a necessidade de se representar e manipular informações complexas resultou no conceito de classes e objetos, onde classes servem como abstrações (representação) e objetos seriam instâncias de classes que mantém e permitem a manipulação da informação.\n",
        "\n",
        "Em Python, toda informação que usamos é representada na forma de um objeto. Assim, o número 6 é um objeto da classe int, o número 3.14 é um objeto da classe float, e assim por diante.\n",
        "\n",
        "Em computação, criar um objeto significa criar uma instância de uma classe. Linguagens orientadas a objetos permitem a definição de novas classes.\n",
        "\n",
        "Uma classe é uma abstração de alguma “coisa”, que possui um estado e comportamento. Um estado é definido por um conjunto de variáveis chamadas de atributos. Esses estados podem ser alterados por meio de “ações” sobre o objeto, que definem seu comportamento. Essas ações são funções chamadas de “métodos”.\n",
        "\n",
        "Por exemplo, para representar um carro podemos definir:\n",
        "* uma classe Carro:\n",
        "* com os atributos: ano, modelo, cor, e vel\n",
        "* e os métodos:\n",
        "    - acelera(vel): acelera até vel\n",
        "    - pare(): vel = 0\n",
        "\n",
        "# **Classes**\n",
        "*São estruturas genéricas* para definir coisas diversas. Imagine uma classe Pessoa, por exemplo. Você sabe diferenciar uma pessoa de um carro, por exemplo. Mas eu não disse uma pessoa em específico. Pessoa é genérico, pode ser qualquer uma.\n",
        "\n",
        "# **Objetos**\n",
        "\n",
        "São instâncias de uma classe. Eu e você somos Pessoas, correto? Mas somos Pessoas diferentes. Eu sou eu, você é você. Cada objeto é específico. Isso que difere a classe do objeto.\n",
        "\n",
        "# **Propriedades**\n",
        "*São valores que um objeto possui*. Por exemplo, todas as pessoas possuem uma altura. Logo, altura é uma propriedade definida dentro da classe Pessoa. Entretanto, sua altura é diferente da minha. Logo, a definição dos atributos é feita na classe, mas a valoração deles é feita no objeto. No código, uma propriedade é basicamente uma variável definida dentro de uma classe.\n",
        "\n",
        "# **Métodos**\n",
        "\n",
        "*São similares às propriedades, com a diferença que ao invés de substantivos, são verbos. Por exemplo, falar é um método da classe Pessoa, pois pessoas, em grande maioria, falam. Apesar disso, cada pessoa (ou seja, cada objeto) pode falar de uma forma diferente (por exemplo eu posso falar em um idioma e você em outro).\n",
        "\n",
        "Outra analogia que a bibliografia relata é que um método se comporta como uma função, mas ele é chamado de uma instância específica. Por exemplo, com uma tartaruga chamada tesss, tess.right(90) pede ao objeto tess para executar o seu método right e virar 90 graus. Os métodos são acessados usando a notação de ponto.\n"
      ],
      "metadata": {
        "id": "wKxp-lo9Uxg1"
      }
    },
    {
      "cell_type": "code",
      "source": [
        "class Pessoa:\n",
        "\n",
        "    # A função __init__ roda toda vez que criamos uma nova pessoa\n",
        "\n",
        "    def __init__(self, novo_nome, nova_altura):\n",
        "\n",
        "        # self indica o objeto. Cada objeto vai ter um nome e uma altura\n",
        "\n",
        "        self.nome = novo_nome\n",
        "\n",
        "        self.altura = nova_altura\n",
        "\n",
        "    # ? Aqui temos um método\n",
        "\n",
        "    def crescer(self):\n",
        "\n",
        "        crescimento = self.altura * 0.1\n",
        "\n",
        "        self.altura += crescimento\n",
        "\n",
        "        print(f\"{self.nome} cresceu {crescimento}cm.\")"
      ],
      "metadata": {
        "id": "zTU8bj02XL5d"
      },
      "execution_count": null,
      "outputs": []
    },
    {
      "cell_type": "code",
      "source": [
        "eu = Pessoa(\"André\", 150)  # Objeto eu da classe Pessoa\n",
        "\n",
        "você = Pessoa(\"Fulano\", 180)  # ? Objeto você da classe Pessoa\n",
        "\n",
        "print(eu.nome)  # ? Meu nome\n",
        "\n",
        "print(você.nome)  # ? É diferente do seu\n",
        "\n",
        "# ? Mas nós dois temos nome, pois nós dois somos pessoas\n",
        "\n",
        "eu.crescer()  # ? Eu posso crescer, pois sou uma pessoa\n",
        "\n",
        "você.crescer()  # ? VocÊ também pode crescer, mas vai ser diferente de mim"
      ],
      "metadata": {
        "colab": {
          "base_uri": "https://localhost:8080/"
        },
        "id": "E3ABcXk5XcF4",
        "outputId": "e438d879-0275-486f-8f5f-9b497e4cda89"
      },
      "execution_count": null,
      "outputs": [
        {
          "output_type": "stream",
          "name": "stdout",
          "text": [
            "André\n",
            "Fulano\n",
            "André cresceu 15.0cm.\n",
            "Fulano cresceu 18.0cm.\n"
          ]
        }
      ]
    },
    {
      "cell_type": "code",
      "source": [
        "def soma():\n",
        "    x = float(input(\"Primeiro numero: \"))\n",
        "    y = float(input(\"Segundo numero: \"))\n",
        "    soma = x + y\n",
        "    print(\"Soma: \",soma)\n",
        "\n",
        "continuar=1\n",
        "\n",
        "while continuar:\n",
        "    if(continuar):\n",
        "        soma()\n",
        "    continuar=int(input(\"Digite 0 se desejar encerrar ou qualquer outro numero para continuar: \"))\n",
        "\n",
        "def soma(x, y):\n",
        "    soma = x + y\n",
        "    print(\"Soma: \",soma)\n",
        "\n",
        "soma(8,3)"
      ],
      "metadata": {
        "colab": {
          "base_uri": "https://localhost:8080/"
        },
        "id": "1fd_h-iMRiy5",
        "outputId": "678e4927-347f-4b3e-add8-da24257a0dca"
      },
      "execution_count": null,
      "outputs": [
        {
          "output_type": "stream",
          "name": "stdout",
          "text": [
            "Primeiro numero: 2\n",
            "Segundo numero: 3\n",
            "Soma:  5.0\n",
            "Digite 0 se desejar encerrar ou qualquer outro numero para continuar: 0\n",
            "Soma:  11\n"
          ]
        }
      ]
    },
    {
      "cell_type": "code",
      "source": [
        "n1 = float(input(\"Digite o valor 1: \"))\n",
        "n2 = float(input(\"Digite o valor 2: \"))\n",
        "n3 = 20\n",
        "n4 = n1 + n2 + n3\n",
        "print (\"Soma: \" + str(n4))"
      ],
      "metadata": {
        "colab": {
          "base_uri": "https://localhost:8080/"
        },
        "id": "UwlsM5MhRnDF",
        "outputId": "8ab3a9d9-8247-4f8d-af70-a8b561d69c8b"
      },
      "execution_count": null,
      "outputs": [
        {
          "output_type": "stream",
          "name": "stdout",
          "text": [
            "Digite o valor 1: 2\n",
            "Digite o valor 2: 3\n",
            "Soma: 25.0\n"
          ]
        }
      ]
    },
    {
      "cell_type": "code",
      "source": [
        "#Se vc usar int obrigatório usar inteiro; logo, dará erro ao usar numero com ponto flutuante\n",
        "n1 = int(input(\"Digite o valor 1: \"))\n",
        "n2 = int(input(\"Digite o valor 2: \"))\n",
        "n3 = 20\n",
        "n4 = n1 + n2 + n3\n",
        "print (\"Soma: \" + str(n4))\n",
        "n3 = 20\n",
        "n4 = n3 * 10\n",
        "print(\"Resultado n3*n4 = \" + str(n4))\n",
        "print (n4)\n",
        "n3 = \"Mack\"\n",
        "print (n3)"
      ],
      "metadata": {
        "colab": {
          "base_uri": "https://localhost:8080/"
        },
        "id": "5wdxvKoLRycb",
        "outputId": "01fe5430-cdda-44f7-8fa3-1043eb4ffe31"
      },
      "execution_count": null,
      "outputs": [
        {
          "output_type": "stream",
          "name": "stdout",
          "text": [
            "Digite o valor 1: 2\n",
            "Digite o valor 2: 3\n",
            "Soma: 25\n",
            "Resultado n3*n4 = 200\n",
            "200\n",
            "Mack\n"
          ]
        }
      ]
    },
    {
      "cell_type": "code",
      "source": [
        "x = 2                               #tipo numérico\n",
        "p = 3.1415                          #tipo ponto flutuante\n",
        "verdadeiro = True                   #tipo booleano\n",
        "texto = 'isto é uma string'         #tipo string\n",
        "texto1 = \"isto também é uma string\" #tipo string\n",
        "c = 3 + 2j                          #tipo número complexo\n",
        "print('Número complexo: ' + str(c))\n",
        "print(x)\n",
        "print(p)\n",
        "print(verdadeiro)\n",
        "print(texto)\n",
        "print(texto1)"
      ],
      "metadata": {
        "colab": {
          "base_uri": "https://localhost:8080/"
        },
        "id": "qtyclKFASDjj",
        "outputId": "2f35465d-67a8-49e5-b243-c4fdca96352d"
      },
      "execution_count": null,
      "outputs": [
        {
          "output_type": "stream",
          "name": "stdout",
          "text": [
            "Número complexo: (3+2j)\n",
            "2\n",
            "3.1415\n",
            "True\n",
            "isto é uma string\n",
            "isto também é uma string\n"
          ]
        }
      ]
    },
    {
      "cell_type": "code",
      "source": [
        "peso = 101\n",
        "altura = 1.80\n",
        "ponto = '.'\n",
        "#Para cada um dos comandos abaixo, indique o resultado da expressão e o tipo de cada um deles.\n",
        "print(peso/2)\n",
        "print(peso/2.0)\n",
        "print(altura/3)\n",
        "print(1 + 2 * 5)\n",
        "print(ponto * 5)"
      ],
      "metadata": {
        "colab": {
          "base_uri": "https://localhost:8080/"
        },
        "id": "87Z8ZE5pTBkS",
        "outputId": "a2ab0a3e-3b2b-477b-e1fe-05405a8b9384"
      },
      "execution_count": null,
      "outputs": [
        {
          "output_type": "stream",
          "name": "stdout",
          "text": [
            "50.5\n",
            "50.5\n",
            "0.6\n",
            "11\n",
            ".....\n"
          ]
        }
      ]
    },
    {
      "cell_type": "code",
      "source": [
        "#O que será exibido na tela?\n",
        "x = 'aa'\n",
        "y = x * 10\n",
        "print(y)\n",
        "\n",
        "v1 = 10.5\n",
        "v2 = 10\n",
        "v3 = \"true\"\n",
        "v4 = True\n",
        "v5 = int(v1)\n",
        "v6 = float(v2)\n",
        "v7 = type(v3)\n",
        "v8 = type(v4)\n",
        "\n",
        "print(v1)\n",
        "print(v2)\n",
        "print(v3)\n",
        "print(v4)\n",
        "print(v5)\n",
        "print(v6)\n",
        "print(v7)\n",
        "print(v8)"
      ],
      "metadata": {
        "colab": {
          "base_uri": "https://localhost:8080/"
        },
        "id": "mNC6imepTIKy",
        "outputId": "05525357-9ae4-4872-88c9-07926c8748d7"
      },
      "execution_count": null,
      "outputs": [
        {
          "output_type": "stream",
          "name": "stdout",
          "text": [
            "aaaaaaaaaaaaaaaaaaaa\n",
            "10.5\n",
            "10\n",
            "true\n",
            "True\n",
            "10\n",
            "10.0\n",
            "<class 'str'>\n",
            "<class 'bool'>\n"
          ]
        }
      ]
    },
    {
      "cell_type": "markdown",
      "source": [
        "# **OPERADORES ARITMÉTICOS**"
      ],
      "metadata": {
        "id": "DSnr0lZ8TObU"
      }
    },
    {
      "cell_type": "code",
      "source": [
        "# OPERADORES ARITMÉTICOS\n",
        "print(2+3)    # SOMA\n",
        "print(2-3)    # SUBTRAÇÃO\n",
        "print(2*3)    # MULTIPLICAÇÃO\n",
        "print(2/3)    # DIVISÃO\n",
        "print(6.6//3) # DIVISÃO INTEIRA\n",
        "print(2%3)    # RESTO DA DIVISÃO\n",
        "print(2**3)   # EXPONENCIAÇÃO"
      ],
      "metadata": {
        "colab": {
          "base_uri": "https://localhost:8080/"
        },
        "id": "vbhH0cVPTMe5",
        "outputId": "26ecb8d4-5fdb-4b65-cc00-6a5896f061f7"
      },
      "execution_count": null,
      "outputs": [
        {
          "output_type": "stream",
          "name": "stdout",
          "text": [
            "5\n",
            "-1\n",
            "6\n",
            "0.6666666666666666\n",
            "2.0\n",
            "2\n",
            "8\n"
          ]
        }
      ]
    }
  ]
}