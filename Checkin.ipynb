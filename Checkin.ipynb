{
  "nbformat": 4,
  "nbformat_minor": 0,
  "metadata": {
    "colab": {
      "private_outputs": true,
      "provenance": [],
      "authorship_tag": "ABX9TyM3iMhlvPSVOHaDjqP5N6n5",
      "include_colab_link": true
    },
    "kernelspec": {
      "name": "python3",
      "display_name": "Python 3"
    },
    "language_info": {
      "name": "python"
    }
  },
  "cells": [
    {
      "cell_type": "markdown",
      "metadata": {
        "id": "view-in-github",
        "colab_type": "text"
      },
      "source": [
        "<a href=\"https://colab.research.google.com/github/massakiigarashi2/Python01/blob/main/Checkin.ipynb\" target=\"_parent\"><img src=\"https://colab.research.google.com/assets/colab-badge.svg\" alt=\"Open In Colab\"/></a>"
      ]
    },
    {
      "cell_type": "markdown",
      "source": [
        "#**Formulário:** Checkin\n",
        "https://docs.google.com/forms/d/e/1FAIpQLSeJTqMJcaILctpWkfgHHOV56SE_pOHqmbC8oIy_-6WrTx3XhQ/viewform?usp=pp_url&entry.579432604=EXCELENTE\n",
        "\n",
        "##**Link para envio de resposta direta:**\n",
        "https://docs.google.com/forms/d/e/1FAIpQLSeJTqMJcaILctpWkfgHHOV56SE_pOHqmbC8oIy_-6WrTx3XhQ/formResponse?&submit=Submit?usp=pp_url&entry.579432604=EXCELENTE\n",
        "\n",
        "\n"
      ],
      "metadata": {
        "id": "x73Iea9kPm8a"
      }
    },
    {
      "cell_type": "code",
      "execution_count": null,
      "metadata": {
        "id": "8F_IFE3rPEuu"
      },
      "outputs": [],
      "source": [
        "#import streamlit as st\n",
        "from urllib.request import urlopen\n",
        "\n",
        "def palavra():\n",
        "    #x = st.text_input('Digite algo:')    #Esta linha é para usar com Streamlit\n",
        "    x = input('Digite algo:')\n",
        "    return x\n",
        "\n",
        "response = urlopen(f'https://docs.google.com/forms/d/e/1FAIpQLSeJTqMJcaILctpWkfgHHOV56SE_pOHqmbC8oIy_-6WrTx3XhQ/formResponse?&submit=Submit?usp=pp_url&entry.579432604={palavra()}')\n",
        "\n",
        "html = response.read()"
      ]
    }
  ]
}