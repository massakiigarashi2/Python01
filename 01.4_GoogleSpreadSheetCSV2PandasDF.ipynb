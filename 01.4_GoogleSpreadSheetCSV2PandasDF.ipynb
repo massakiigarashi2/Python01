{
  "nbformat": 4,
  "nbformat_minor": 0,
  "metadata": {
    "colab": {
      "name": "AD13_GoogleSpreadSheetCSV2PandasDF.ipynb",
      "private_outputs": true,
      "provenance": [],
      "include_colab_link": true
    },
    "kernelspec": {
      "name": "python3",
      "display_name": "Python 3"
    },
    "language_info": {
      "name": "python"
    }
  },
  "cells": [
    {
      "cell_type": "markdown",
      "metadata": {
        "id": "view-in-github",
        "colab_type": "text"
      },
      "source": [
        "<a href=\"https://colab.research.google.com/github/massakiigarashi2/Python2022/blob/main/AD13_GoogleSpreadSheetCSV2PandasDF.ipynb\" target=\"_parent\"><img src=\"https://colab.research.google.com/assets/colab-badge.svg\" alt=\"Open In Colab\"/></a>"
      ]
    },
    {
      "cell_type": "markdown",
      "source": [
        "### **OBJETIVO DA AULA:**\n",
        "Nesta aula aprenderemos a importar os dados das respostas de um Google Forms\n",
        "A partir da planilha de repostas gerada (Google SpreadSheet CSV)\n"
      ],
      "metadata": {
        "id": "4AQhW_uar1i0"
      }
    },
    {
      "cell_type": "markdown",
      "source": [
        "### Link das respostas PESQUISA GoogleFORMS\n",
        "\n",
        "https://docs.google.com/spreadsheets/d/e/2PACX-1vSYOPO3A5sD-_O88hRacz-jVTvEYQrdXD4MPevjPRJZ-WLzqlc0EPdGLak8TFgn9lVcAoX3SzJfQIKj/pub?gid=781020954&single=true&output=csv\n",
        "\n",
        "OBS: Para gerar o link você precisa, após gerar a planilha:\n",
        "*   Clicar em Compartilhar\n",
        "*   Clicar em Publicar na Web\n",
        "*   Respostas ao Formulário\n",
        "*   Valores separados por vírgulas (.csv)\n",
        "\n",
        "\n"
      ],
      "metadata": {
        "id": "7tp5HbMqnocv"
      }
    },
    {
      "cell_type": "markdown",
      "source": [
        "01) Para esta aula precisaremos das seguintes bibliotecas:\n",
        "\n",
        "\n",
        "*   BytesIO\n",
        "*   Requests\n",
        "*   Pandas (Para manipular a base de dados)\n",
        "\n"
      ],
      "metadata": {
        "id": "WhMlTXgUtOiz"
      }
    },
    {
      "cell_type": "markdown",
      "source": [
        "A biblioteca Requests permite enviar solicitações HTTP/1.1 com extrema facilidade. Não há necessidade de adicionar manualmente strings de consulta aos seus URLs ou codificar seus da"
      ],
      "metadata": {
        "id": "q2efQSqTpdg_"
      }
    },
    {
      "cell_type": "code",
      "source": [
        "from io import BytesIO\n",
        "\n",
        "import requests\n",
        "import pandas as pd\n",
        "\n",
        "r = requests.get('https://docs.google.com/spreadsheets/d/e/2PACX-1vSYOPO3A5sD-_O88hRacz-jVTvEYQrdXD4MPevjPRJZ-WLzqlc0EPdGLak8TFgn9lVcAoX3SzJfQIKj/pub?gid=781020954&single=true&output=csv')\n",
        "data = r.content"
      ],
      "metadata": {
        "id": "ov5ddt9WnvS-"
      },
      "execution_count": null,
      "outputs": []
    },
    {
      "cell_type": "code",
      "source": [
        "df = pd.read_csv(BytesIO(data), index_col=0)\n",
        "df.head(13)"
      ],
      "metadata": {
        "id": "vbGxNHXtoHyi"
      },
      "execution_count": null,
      "outputs": []
    },
    {
      "cell_type": "code",
      "source": [
        "for col in df.columns:\n",
        "    print(col)"
      ],
      "metadata": {
        "id": "J1aP_r_3pKPy"
      },
      "execution_count": null,
      "outputs": []
    },
    {
      "cell_type": "code",
      "source": [
        "df.columns = ['email', 'Nome', 'ROCK', 'SERTANEJO', 'Sugestao']\n",
        "for col in df.columns:\n",
        "    print(col)"
      ],
      "metadata": {
        "id": "5pzTVkk2ppSc"
      },
      "execution_count": null,
      "outputs": []
    },
    {
      "cell_type": "code",
      "source": [
        "df['email']"
      ],
      "metadata": {
        "id": "944ZA3pQqAQL"
      },
      "execution_count": null,
      "outputs": []
    },
    {
      "cell_type": "code",
      "source": [
        "df['email'][0]"
      ],
      "metadata": {
        "id": "YaWkw_2OrDs2"
      },
      "execution_count": null,
      "outputs": []
    },
    {
      "cell_type": "code",
      "source": [
        "nREGISTROS = len(df)\n",
        "nREGISTROS"
      ],
      "metadata": {
        "id": "R_LCFSDYM1yo"
      },
      "execution_count": null,
      "outputs": []
    },
    {
      "cell_type": "code",
      "source": [
        "df1 = df['ROCK'].value_counts()\n",
        "nPromotores = float(df1[9]) + float(df1[10])\n",
        "nPromotores\n",
        "PorcentagemPromotoes = nPromotores/nREGISTROS\n",
        "PorcentagemPromotoes"
      ],
      "metadata": {
        "id": "lAGuO0m9KEzf"
      },
      "execution_count": null,
      "outputs": []
    },
    {
      "cell_type": "markdown",
      "source": [
        "#**Método value_counts()**\n",
        "O método value_counts() da biblioteca Pandas retorna uma série contendo contagens de valores exclusivos. O objeto resultante estará em ordem decrescente para que o primeiro elemento seja o elemento que ocorre com mais frequência. Exclui valores NA por padrão.\n",
        "\n",
        "**Syntax:** Series.value_counts(normalize=False, sort=True, ascending=False, bins=None, dropna=True)\n",
        "\n",
        "**Parameter:**\n",
        "\n",
        "normalize : If True then the object returned will contain the relative frequencies of the unique values.\n",
        "sort : Sort by values.\n",
        "ascending : Sort in ascending order.\n",
        "bins : Rather than count values, group them into half-open bins, a convenience for pd.cut, only works with numeric data.\n",
        "dropna : Don’t include counts of NaN.\n",
        "\n",
        "Returns : counts : Series"
      ],
      "metadata": {
        "id": "AebUfMylnTGH"
      }
    },
    {
      "cell_type": "code",
      "source": [
        "df1 = df['ROCK'].value_counts()\n",
        "nDetratores = float(df1[1]) + float(df1[2]) + float(df1[3]) + float(df1[4]) + float(df1[5]) + float(df1[6])\n",
        "nDetratores\n",
        "PorcentagemDetratores = nDetratores/nREGISTROS\n",
        "PorcentagemDetratores"
      ],
      "metadata": {
        "id": "9GZWVhFjPgt-"
      },
      "execution_count": null,
      "outputs": []
    },
    {
      "cell_type": "markdown",
      "source": [
        "#**Método to_dict()**\n",
        "O método dict do pacote Pandas é usado para converter um dataframe em um dicionário de série ou lista como tipo de dados, dependendo do parâmetro orient. .to_dict()\n",
        "\n",
        "Os **dicionários em Python** servem para que você possa criar listas no Python, só que com um rótulo.\n",
        "Esse rótulo nada mais é do que um identificador, ou seja, você pode escrever em uma lista os nomes de várias pessoas como identificador e nela colocar, por exemplo, a idade de cada uma delas.\n",
        "\n"
      ],
      "metadata": {
        "id": "Fl63hi9_ofwC"
      }
    },
    {
      "cell_type": "code",
      "source": [
        "counts = df['ROCK'].value_counts().to_dict()\n",
        "print(counts)"
      ],
      "metadata": {
        "id": "YTtppiTPL2GQ"
      },
      "execution_count": null,
      "outputs": []
    },
    {
      "cell_type": "markdown",
      "source": [
        "#**01)Gráfico de Pizza com Texto**\n",
        "É possível criar um GRÁFICO DE PIZZA E controlar o texto dentro dos seus setores. A ferramenta tem \"auto\" textos que são girados automaticamente para caber no tamanho máximo dentro da fatia. "
      ],
      "metadata": {
        "id": "muB9bwT2klrE"
      }
    },
    {
      "cell_type": "code",
      "source": [
        "#1.1 EXEMPLO DO SITE\n",
        "#https://plotly.com/python/pie-charts/\n",
        "\n",
        "import plotly.graph_objects as go\n",
        "\n",
        "labels = ['Oxygen','Hydrogen','Carbon_Dioxide','Nitrogen']\n",
        "values = [4500, 2500, 1053, 500]\n",
        "\n",
        "fig = go.Figure(data=[go.Pie(labels=labels, values=values, textinfo='label+percent',\n",
        "                             insidetextorientation='radial'\n",
        "                            )])\n",
        "fig.show()"
      ],
      "metadata": {
        "id": "3iNB6jR7lJVI"
      },
      "execution_count": null,
      "outputs": []
    },
    {
      "cell_type": "markdown",
      "source": [
        "#1.2) Agora vamos adaptar a ferramenta para exibir dados das Notas atribuídas para ROCK"
      ],
      "metadata": {
        "id": "ncVCtRhhleMD"
      }
    },
    {
      "cell_type": "code",
      "source": [
        "import numpy as np\n",
        "import pandas as pd\n",
        "import plotly.graph_objects as go\n",
        "\n",
        "sNOTA = [\"Nota \" + str(i) for i in range(1, 11)]\n",
        "print(\"Preciso criar um vetor sNOTA do tipo string para exibir os rótulos das notas\")\n",
        "print(sNOTA)\n",
        "print(\"Ele será usado no gráfico de pizza a seguir:\")\n",
        "QTD = np.zeros(11)\n",
        "\n",
        "for i in range(1, 11):\n",
        "  QTD[i] = counts[i]\n",
        "\n",
        "fig = go.Figure(data=[go.Pie(labels=sNOTA, values=QTD, textinfo='label+percent',title= 'NOTAS ATRUBUÍDAS',\n",
        "                             insidetextorientation='radial'\n",
        "                            )])\n",
        "fig.show()"
      ],
      "metadata": {
        "id": "M0GsoF1ScF98"
      },
      "execution_count": null,
      "outputs": []
    },
    {
      "cell_type": "code",
      "source": [
        "print(df1)"
      ],
      "metadata": {
        "id": "2P-UNIsEsqGr"
      },
      "execution_count": null,
      "outputs": []
    },
    {
      "cell_type": "markdown",
      "source": [
        "**02) Gráfico de bolhas**\n",
        "Um gráfico de bolhas é um gráfico de dispersão no qual uma terceira dimensão dos dados é mostrada através do tamanho dos marcadores. Para outros tipos de gráfico de dispersão, consulte a documentação do gráfico de dispersão .\n",
        "\n",
        "Primeiro, mostramos um exemplo de gráfico de bolhas usando o Plotly Express. Plotly Express é a interface de alto nível e fácil de usar para Plotly, que opera em uma variedade de tipos de dados e produz figuras fáceis de estilizar . O tamanho dos marcadores é definido na coluna do dataframe fornecida como sizeparâmetro."
      ],
      "metadata": {
        "id": "4IHU-m0wuEMV"
      }
    },
    {
      "cell_type": "code",
      "source": [
        "import plotly.graph_objects as go\n",
        "\n",
        "fig = go.Figure(data=[go.Scatter(\n",
        "    x=sNOTA, y=QTD,\n",
        "    mode='markers',\n",
        "    marker_size=[10, 20, 30, 40, 50, 60, 70, 80, 90, 100])\n",
        "])\n",
        "\n",
        "fig.show()"
      ],
      "metadata": {
        "id": "rrtvWG6HruLt"
      },
      "execution_count": null,
      "outputs": []
    },
    {
      "cell_type": "code",
      "source": [
        "# Count frequency value using GroupBy.size()\n",
        "df1 = df.groupby(['ROCK']).size()\n",
        "print(df1)"
      ],
      "metadata": {
        "id": "sWoIONQjBKcu"
      },
      "execution_count": null,
      "outputs": []
    },
    {
      "cell_type": "code",
      "source": [
        "NPS = (PorcentagemPromotoes - PorcentagemDetratores)*100\n",
        "NPS"
      ],
      "metadata": {
        "id": "Eo8E_1P4BRYv"
      },
      "execution_count": null,
      "outputs": []
    },
    {
      "cell_type": "markdown",
      "source": [
        "# Se -100 < NPS <=  0: Zona Crítica\n",
        "# Se    0 < NPS <= 50: Zona de Aperfeiçoamento\n",
        "# Se   50 < NPS <= 75: Zona de Qualidade\n",
        "# Se   75 < NPS <=100: Zona de Excelência"
      ],
      "metadata": {
        "id": "284QmcG5EbXW"
      }
    },
    {
      "cell_type": "code",
      "source": [
        "if (-100 < NPS and NPS <=  0): \n",
        "  print(\"Zona Crítica\")\n",
        "if (0 < NPS and NPS <= 50): \n",
        "  print(\"Zona de Aperfeiçoamento\")\n",
        "if (50 < NPS and NPS <= 75):\n",
        "  print(\"Zona de Qualidade\")\n",
        "if (75 < NPS and NPS<=100): \n",
        "  print(\"Zona de Excelência\")"
      ],
      "metadata": {
        "id": "khbaC6WtEZ5r"
      },
      "execution_count": null,
      "outputs": []
    },
    {
      "cell_type": "code",
      "source": [
        "if (-100 < NPS  <=  0): \n",
        "  print(\"Zona Crítica\")\n",
        "if (0 < NPS <= 50): \n",
        "  print(\"Zona de Aperfeiçoamento\")\n",
        "if (50 < NPS <= 75):\n",
        "  print(\"Zona de Qualidade\")\n",
        "if (75 < NPS <=100): \n",
        "  print(\"Zona de Excelência\")"
      ],
      "metadata": {
        "id": "MiTWPnStGANF"
      },
      "execution_count": null,
      "outputs": []
    },
    {
      "cell_type": "code",
      "source": [
        "import plotly.graph_objects as go\n",
        "\n",
        "fig = go.Figure()\n",
        "\n",
        "fig.add_trace(go.Indicator(\n",
        "    value = NPS,\n",
        "    delta = {'reference': 100},\n",
        "    gauge = {\n",
        "        'axis': {'visible': False}},\n",
        "    domain = {'row': 0, 'column': 0}))\n",
        "\n",
        "fig.add_trace(go.Indicator(\n",
        "    value = NPS,\n",
        "    gauge = {\n",
        "        'shape': \"bullet\",\n",
        "        'axis' : {'visible': False}},\n",
        "    domain = {'row': 0, 'column': 1}))\n",
        "\n",
        "fig.update_layout(\n",
        "    grid = {'rows': 1, 'columns': 2, 'pattern': \"independent\"},\n",
        "    template = {'data' : {'indicator': [{ 'title': {'text': \"NPS\"},'mode' : \"number+delta+gauge\",'delta' : {'reference': 100}}]\n",
        "}})"
      ],
      "metadata": {
        "id": "x9w9-_THGYTO"
      },
      "execution_count": null,
      "outputs": []
    }
  ]
}