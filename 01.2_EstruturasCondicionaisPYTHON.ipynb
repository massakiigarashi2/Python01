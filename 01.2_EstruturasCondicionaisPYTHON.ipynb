{
  "nbformat": 4,
  "nbformat_minor": 0,
  "metadata": {
    "colab": {
      "name": "AD12 - Python02.ipynb",
      "provenance": [],
      "collapsed_sections": [],
      "authorship_tag": "ABX9TyNkEPMoO7HfgLlm34LwnLvX",
      "include_colab_link": true
    },
    "kernelspec": {
      "name": "python3",
      "display_name": "Python 3"
    },
    "language_info": {
      "name": "python"
    }
  },
  "cells": [
    {
      "cell_type": "markdown",
      "metadata": {
        "id": "view-in-github",
        "colab_type": "text"
      },
      "source": [
        "<a href=\"https://colab.research.google.com/github/massakiigarashi2/Python2022/blob/main/AD12_Python02.ipynb\" target=\"_parent\"><img src=\"https://colab.research.google.com/assets/colab-badge.svg\" alt=\"Open In Colab\"/></a>"
      ]
    },
    {
      "cell_type": "markdown",
      "metadata": {
        "id": "bep7Pg6j8buX"
      },
      "source": [
        "###**AULA 02 – INTRODUÇÃO AO PYTHON – PARTE 2**\n",
        "## OBJETIVOS DESTA AULA:\n",
        "#1- Conhecer os principais conceitos básicos da linguagem Python;\n",
        "#2- Treinar a execução de alguns exemplos em Python;\n",
        "#3- Praticar declaração de variáveis, a estrutura sequencial e condicional de programação; e estruturas de repetição (while e for)"
      ]
    },
    {
      "cell_type": "markdown",
      "metadata": {
        "id": "b6x_tj-Q8x9g"
      },
      "source": [
        "2.1 - ESTRUTURA CONDICIONAL\n",
        "Vamos agora verificar como se utiliza a estrutura condicional em Python. A sintaxe básica é:\n",
        "\n",
        "                  if <<condição>>:\n",
        "                      comando01                                \n",
        "                          .\n",
        "                          .\n",
        "                          .\n",
        "                      comandoN\n",
        "                  else:\n",
        "                      comando01 \n",
        "                          .\n",
        "                          .\n",
        "                          .\n",
        "                      comandoN\n",
        "\n",
        "# **Exemplo 01:**"
      ]
    },
    {
      "cell_type": "code",
      "metadata": {
        "colab": {
          "base_uri": "https://localhost:8080/"
        },
        "id": "NMtBsh0g8KMA",
        "outputId": "9425f043-be59-4c97-95c8-bfa168f8b6da"
      },
      "source": [
        "Nota1 = float(input(\"Digite o nota 1: \"))\n",
        "Nota2 = float(input(\"Digite o nota 2: \"))\n",
        "Media = (Nota1 + Nota2)/2.0\n",
        "print (\"Média = \" + str(Media))\n",
        "if Media<=6:\n",
        "  print(\"Recuperação\")\n",
        "else:\n",
        "  print(\"Aprovada(o)\")"
      ],
      "execution_count": null,
      "outputs": [
        {
          "output_type": "stream",
          "text": [
            "Digite o nota 1: 5\n",
            "Digite o nota 2: 6\n",
            "Média = 5.5\n",
            "Recuperação\n"
          ],
          "name": "stdout"
        }
      ]
    },
    {
      "cell_type": "markdown",
      "metadata": {
        "id": "oAt3hfAiALy7"
      },
      "source": [
        "# **Exemplo 02:**"
      ]
    },
    {
      "cell_type": "code",
      "metadata": {
        "colab": {
          "base_uri": "https://localhost:8080/"
        },
        "id": "tMj6DQV2AQIA",
        "outputId": "669bf075-10e2-4e42-8cb4-accd5b8e78bf"
      },
      "source": [
        "salario = float(input(\"Digite o valor do salario (em R$): \"))\n",
        "if salario>=1000:\n",
        "  taxa = 50\n",
        "  desconto = 100\n",
        "else:\n",
        "  taxa = 25\n",
        "  desconto = 50\n",
        "print(\"Taxa = \" + str(taxa))\n",
        "print(\"Desconto = \" + str(desconto))"
      ],
      "execution_count": null,
      "outputs": [
        {
          "output_type": "stream",
          "text": [
            "Digite o valor do salario (em R$): 456\n",
            "Taxa = 25\n",
            "Desconto = 50\n"
          ],
          "name": "stdout"
        }
      ]
    },
    {
      "cell_type": "markdown",
      "metadata": {
        "id": "K4BsnR2NBXW9"
      },
      "source": [
        "### **2.1.1 - Estruturas condicionais ANINHADAS**\n",
        "# No Python, você pode aninhar novas estruturas condicionais if dentro de else ou fazer uso da estrutura elif.\n",
        "# A estrutura elif é uma opção da codificação da seleção múltipla (correspondente ao switch case usado nas linguagens C++ e Java:\n",
        "                  if <<condição1>>:\n",
        "                      comando01                                \n",
        "                          .\n",
        "                          .\n",
        "                          .\n",
        "                      comandoN\n",
        "                  elif <<condição2>>:\n",
        "                      comando01                                \n",
        "                          .\n",
        "                          .\n",
        "                          .\n",
        "                      comandoN\n",
        "                  .\n",
        "                  .\n",
        "                  .\n",
        "                  elif <<condiçãoN>>:\n",
        "                      comando01                                \n",
        "                          .\n",
        "                          .\n",
        "                          .\n",
        "                      comandoN\n",
        "                  \n",
        "                  else:\n",
        "                      comando01 \n",
        "                          .\n",
        "                          .\n",
        "                          .\n",
        "                      comandoN\n"
      ]
    },
    {
      "cell_type": "code",
      "metadata": {
        "colab": {
          "base_uri": "https://localhost:8080/"
        },
        "id": "7_MVmDjkBpot",
        "outputId": "90731f62-9dff-47fb-8b1e-26971a020a08"
      },
      "source": [
        "print (\"1- Casada(o)\")\n",
        "print (\"2- Solteira(o)\")\n",
        "print (\"3- Viúva(o)\")\n",
        "print (\"4- Divorciada(o)\")\n",
        "eCivil = int(input(\"Informe o estado civil: \"))\n",
        "if eCivil == 1:\n",
        "  print('Casada(o)')\n",
        "elif eCivil == 2:\n",
        "  print('Solteira(o)')\n",
        "elif eCivil == 3:\n",
        "  print('Viúva(o)')\n",
        "elif eCivil == 4:\n",
        "  print ('Divorciada(o)')\n",
        "else:\n",
        "  print ('Outros')"
      ],
      "execution_count": null,
      "outputs": [
        {
          "output_type": "stream",
          "text": [
            "1- Casada(o)\n",
            "2- Solteira(o)\n",
            "3- Viúva(o)\n",
            "4- Divorciada(o)\n",
            "Informe o estado civil: 3\n",
            "Viúva(o)\n"
          ],
          "name": "stdout"
        }
      ]
    },
    {
      "cell_type": "markdown",
      "metadata": {
        "id": "NX_xe7u7TuGq"
      },
      "source": [
        "### **2.2- ESTRUTURA DE REPETIÇÃO while **\n",
        "\n",
        "O loop while é uma instrução de controle de loop em Python e freqüentemente usada na programação para execução repetida de instrução(ões) em um loop. Ele executa uma sequência de instruções repetidamente, desde que a condição permaneça verdadeira. A sintaxe para o loop while é fornecida da seguinte maneira:\n",
        "\n",
        "while condição:\n",
        "  comando(s)\n",
        "\n",
        "As instruções dentro do loop while serão executadas enquanto a condição for verdadeira, ou seja, enquanto ela for atendida."
      ]
    },
    {
      "cell_type": "markdown",
      "source": [
        "**LOGICAL OPERATOR\t-  DESCRIPTION\t(SYNTAX:)**\n",
        "\n",
        "and\t- True if both the operands are true (SYNTAX: x and y)\n",
        "\n",
        "or\t- True if either of the operands is true (SYNTAX:x or y)\n",
        "\n",
        "not\t- True if operand is false (SYNTAX: not x)"
      ],
      "metadata": {
        "id": "tDx_xQ_yIn0u"
      }
    },
    {
      "cell_type": "code",
      "metadata": {
        "colab": {
          "base_uri": "https://localhost:8080/"
        },
        "id": "aHIARmfeUimC",
        "outputId": "4e2ed360-d86c-424f-8e3f-334d33afdaea"
      },
      "source": [
        "Nota1 = float(input(\"Digite o nota 1: \"))\n",
        "while Nota1<0 or Nota1>10:\n",
        "  Nota1 = float(input(\"Digite o nota 1: \"))\n",
        "\n",
        "Nota2 = float(input(\"Digite o nota 2: \"))\n",
        "while Nota2<0 or Nota2>10:\n",
        "  Nota2 = float(input(\"Digite o nota 2: \"))\n",
        "\n",
        "Media = (Nota1 + Nota2)/2.0\n",
        "print (\"Média = \" + str(Media))\n",
        "if Media<6:\n",
        "  print(\"Recuperação\")\n",
        "else:\n",
        "  print(\"Aprovada(o)\")"
      ],
      "execution_count": null,
      "outputs": [
        {
          "output_type": "stream",
          "text": [
            "Digite o nota 1: -3\n",
            "Digite o nota 1: 12\n",
            "Digite o nota 1: 120\n",
            "Digite o nota 1: 7\n",
            "Digite o nota 2: 30\n",
            "Digite o nota 2: 12\n",
            "Digite o nota 2: -10\n",
            "Digite o nota 2: 8\n",
            "Média = 7.5\n",
            "Aprovada(o)\n"
          ],
          "name": "stdout"
        }
      ]
    },
    {
      "cell_type": "markdown",
      "metadata": {
        "id": "77O7qDowVuC3"
      },
      "source": [
        "# **Exemplo 03:** Escreva um programa para imprimir os números de um a cinco usando o loop while."
      ]
    },
    {
      "cell_type": "code",
      "metadata": {
        "colab": {
          "base_uri": "https://localhost:8080/"
        },
        "id": "6CWP152HWhaI",
        "outputId": "863197c7-6788-4147-8530-c0fa1e235758"
      },
      "source": [
        "count=0             # initialize the counter\n",
        "while count<=5:     # Test condition\n",
        "  print(str(count)) # print the value of count\n",
        "  count+=0.25    # Increment the value of count by 1\n",
        "print(\"FIM DO LOOPING\")"
      ],
      "execution_count": null,
      "outputs": [
        {
          "output_type": "stream",
          "text": [
            "0\n",
            "0.25\n",
            "0.5\n",
            "0.75\n",
            "1.0\n",
            "1.25\n",
            "1.5\n",
            "1.75\n",
            "2.0\n",
            "2.25\n",
            "2.5\n",
            "2.75\n",
            "3.0\n",
            "3.25\n",
            "3.5\n",
            "3.75\n",
            "4.0\n",
            "4.25\n",
            "4.5\n",
            "4.75\n",
            "5.0\n",
            "FIM DO LOOPING\n"
          ],
          "name": "stdout"
        }
      ]
    },
    {
      "cell_type": "markdown",
      "metadata": {
        "id": "1DaeuwVYXsGQ"
      },
      "source": [
        "### **2.3- A FUNÇÃO range()**\n",
        "A função range() do Python é usada para gerar uma lista de inteiros. A função de intervalo possui um, dois ou três parâmetros. Os dois últimos parâmetros da função range () são opcionais.\n",
        "A forma geral da função de intervalo é:\n",
        "```\n",
        "                      range(início, fim, passo)\n",
        "```\n",
        "O ‘início’ é o primeiro número inicial na sequência em que a lista começa.\n",
        "O 'fim' é o limite, ou seja, o último número na sequência.\n",
        "O 'passo' é o incremento entre cada número na sequência.[texto do link](https://)"
      ]
    },
    {
      "cell_type": "code",
      "metadata": {
        "colab": {
          "base_uri": "https://localhost:8080/"
        },
        "id": "P1ojV_xcYlu3",
        "outputId": "7c67ee60-03cb-43f5-8585-a6f91e84145d"
      },
      "source": [
        "#Para exibir os números de 0 a 17 com passo 1\n",
        "list(range(18))"
      ],
      "execution_count": null,
      "outputs": [
        {
          "output_type": "execute_result",
          "data": {
            "text/plain": [
              "[0, 1, 2, 3, 4, 5, 6, 7, 8, 9, 10, 11, 12, 13, 14, 15, 16, 17]"
            ]
          },
          "metadata": {
            "tags": []
          },
          "execution_count": 14
        }
      ]
    },
    {
      "cell_type": "code",
      "metadata": {
        "colab": {
          "base_uri": "https://localhost:8080/"
        },
        "id": "nOqvB7NTZOZY",
        "outputId": "b2053794-6758-4998-e69b-c3d61c4ebd00"
      },
      "source": [
        "#Para exibir os números de 1 a 10 com passo 2\n",
        "list(range(1, 10, 2))"
      ],
      "execution_count": null,
      "outputs": [
        {
          "output_type": "execute_result",
          "data": {
            "text/plain": [
              "[1, 3, 5, 7, 9]"
            ]
          },
          "metadata": {
            "tags": []
          },
          "execution_count": 15
        }
      ]
    },
    {
      "cell_type": "markdown",
      "metadata": {
        "id": "fySVOO9SZnRK"
      },
      "source": [
        "OBSERVAÇÃO: A função range() só aceita passo INTEIRO. Não é possível usar valores ocm decimais"
      ]
    },
    {
      "cell_type": "markdown",
      "metadata": {
        "id": "VVTo_tWfbFv0"
      },
      "source": [
        "### **2.4- Para criar uma FUNÇÃO DEFINIDA PELO PROGRAMADOR**\n",
        "```\n",
        "              def NOME(INÍCIO, FIM, PASSO):\n",
        "                  COMANDO(s) e CÁLCULO(s)\n",
        "                  return RESULTADO\n",
        "```"
      ]
    },
    {
      "cell_type": "code",
      "metadata": {
        "id": "ASZ9wuBTZxeG"
      },
      "source": [
        "#Para exibir os números de 1 a 10 com passo 0.5 é necessário criar uma função para definir este passo diferenciado\n",
        "def seq(start, stop, step=1):\n",
        "    n = int(round((stop - start)/float(step)))\n",
        "    if n > 1:\n",
        "        return([start + step*i for i in range(n+1)])\n",
        "    elif n == 1:\n",
        "        return([start])\n",
        "    else:\n",
        "        return([])"
      ],
      "execution_count": null,
      "outputs": []
    },
    {
      "cell_type": "code",
      "metadata": {
        "colab": {
          "base_uri": "https://localhost:8080/"
        },
        "id": "prFBA-mOa7Nb",
        "outputId": "a3fbc904-3e78-4e47-d812-e9192b81932b"
      },
      "source": [
        "seq(1, 5, 0.25)"
      ],
      "execution_count": null,
      "outputs": [
        {
          "output_type": "execute_result",
          "data": {
            "text/plain": [
              "[1.0,\n",
              " 1.25,\n",
              " 1.5,\n",
              " 1.75,\n",
              " 2.0,\n",
              " 2.25,\n",
              " 2.5,\n",
              " 2.75,\n",
              " 3.0,\n",
              " 3.25,\n",
              " 3.5,\n",
              " 3.75,\n",
              " 4.0,\n",
              " 4.25,\n",
              " 4.5,\n",
              " 4.75,\n",
              " 5.0]"
            ]
          },
          "metadata": {
            "tags": []
          },
          "execution_count": 18
        }
      ]
    },
    {
      "cell_type": "code",
      "metadata": {
        "id": "Fw0sNU7Dap2t"
      },
      "source": [
        "def MediaMassaki(v1, v2, v3):\n",
        "  return ((v1 + v2 + v3)/3)"
      ],
      "execution_count": null,
      "outputs": []
    },
    {
      "cell_type": "code",
      "metadata": {
        "colab": {
          "base_uri": "https://localhost:8080/"
        },
        "id": "jApcLO7Ma9u1",
        "outputId": "8429b4fb-069c-4f32-da3a-9b4573b00f05"
      },
      "source": [
        "MediaMassaki(5, 5, 5)"
      ],
      "execution_count": null,
      "outputs": [
        {
          "output_type": "execute_result",
          "data": {
            "text/plain": [
              "5.0"
            ]
          },
          "metadata": {
            "tags": []
          },
          "execution_count": 24
        }
      ]
    },
    {
      "cell_type": "markdown",
      "metadata": {
        "id": "2-bJQ__AbaWu"
      },
      "source": [
        "### LOOPING FOR"
      ]
    },
    {
      "cell_type": "code",
      "metadata": {
        "id": "bs8AfcW4c34N"
      },
      "source": [
        "n = int(input(\"Quantas vezes deseja repetir o programa?\"))\n",
        "\n",
        "for i in range(0, n):\n",
        "    Nota1 = int(input(\"Digite o nota 1: \"))\n",
        "    while Nota1<0 or Nota1>10:\n",
        "      Nota1 = int(input(\"Digite o nota 1: \"))\n",
        "    Nota2 = int(input(\"Digite o nota 2: \"))\n",
        "    while Nota2<0 or Nota2>10:\n",
        "      Nota2 = int(input(\"Digite o nota 2: \"))\n",
        "    Media = (Nota1 + Nota2)/2.0\n",
        "    print (\"Média = \" + str(Media))\n",
        "    if Media<6:\n",
        "      print(\"Recuperação\")\n",
        "    else:\n",
        "      print(\"Aprovada(o)\")"
      ],
      "execution_count": null,
      "outputs": []
    },
    {
      "cell_type": "markdown",
      "metadata": {
        "id": "hkhqjON7phTu"
      },
      "source": [
        "### **2.5 - BIBLIOTECA DE FUNÇÕES MATEMÁTICAS <math>**"
      ]
    },
    {
      "cell_type": "code",
      "metadata": {
        "id": "ymI1XvuTe0zJ"
      },
      "source": [
        "import math"
      ],
      "execution_count": null,
      "outputs": []
    },
    {
      "cell_type": "code",
      "metadata": {
        "colab": {
          "base_uri": "https://localhost:8080/"
        },
        "id": "K_IZWCo2fytf",
        "outputId": "9b78b8a0-105d-4a9c-debc-228d01ee8b90"
      },
      "source": [
        "#Constante π = 3.141592…\n",
        "math.pi"
      ],
      "execution_count": null,
      "outputs": [
        {
          "output_type": "execute_result",
          "data": {
            "text/plain": [
              "3.141592653589793"
            ]
          },
          "metadata": {
            "tags": []
          },
          "execution_count": 39
        }
      ]
    },
    {
      "cell_type": "code",
      "metadata": {
        "colab": {
          "base_uri": "https://localhost:8080/"
        },
        "id": "AJ0A52Dgfuju",
        "outputId": "fec447bf-a574-4782-bfaa-e21868985569"
      },
      "source": [
        "#Constate e = 2.718281…\n",
        "math.e"
      ],
      "execution_count": null,
      "outputs": [
        {
          "output_type": "execute_result",
          "data": {
            "text/plain": [
              "2.718281828459045"
            ]
          },
          "metadata": {
            "tags": []
          },
          "execution_count": 40
        }
      ]
    },
    {
      "cell_type": "code",
      "metadata": {
        "colab": {
          "base_uri": "https://localhost:8080/"
        },
        "id": "tJ81WXS0fwXl",
        "outputId": "9683bf2b-5c0b-421a-821b-c398f397d12e"
      },
      "source": [
        "#Constante matemática τ = 2π = 6.283185307179586...\n",
        "math.tau\n"
      ],
      "execution_count": null,
      "outputs": [
        {
          "output_type": "execute_result",
          "data": {
            "text/plain": [
              "6.283185307179586"
            ]
          },
          "metadata": {
            "tags": []
          },
          "execution_count": 41
        }
      ]
    },
    {
      "cell_type": "markdown",
      "metadata": {
        "id": "MkLrdkWe1Pi0"
      },
      "source": [
        "#Potência de $ x^y $\n",
        "```\n",
        "math.pow(x, y)\n",
        "```"
      ]
    },
    {
      "cell_type": "code",
      "metadata": {
        "colab": {
          "base_uri": "https://localhost:8080/"
        },
        "id": "ppLXC66c1Pr1",
        "outputId": "9e0ded19-e150-4ce1-e053-8830733d12a3"
      },
      "source": [
        "math.pow(2, 3)\n"
      ],
      "execution_count": null,
      "outputs": [
        {
          "output_type": "execute_result",
          "data": {
            "text/plain": [
              "8.0"
            ]
          },
          "metadata": {
            "tags": []
          },
          "execution_count": 42
        }
      ]
    },
    {
      "cell_type": "markdown",
      "metadata": {
        "id": "tnz1zJjZ1qmv"
      },
      "source": [
        "#RAIZ QUADRADA de X\n",
        "$\\sqrt{x}$"
      ]
    },
    {
      "cell_type": "code",
      "metadata": {
        "colab": {
          "base_uri": "https://localhost:8080/"
        },
        "id": "o8N4HWLS13C5",
        "outputId": "fe6dbec4-9ccb-41d4-e632-dcb0b5b871dd"
      },
      "source": [
        "math.sqrt(9)"
      ],
      "execution_count": null,
      "outputs": [
        {
          "output_type": "execute_result",
          "data": {
            "text/plain": [
              "3.0"
            ]
          },
          "metadata": {
            "tags": []
          },
          "execution_count": 43
        }
      ]
    },
    {
      "cell_type": "markdown",
      "metadata": {
        "id": "zDzQzQB22A9Q"
      },
      "source": [
        "## LOGARITMOS"
      ]
    },
    {
      "cell_type": "code",
      "metadata": {
        "colab": {
          "base_uri": "https://localhost:8080/"
        },
        "id": "U_X6p53v2FRt",
        "outputId": "2319dcbe-b497-4a2e-928f-d3fe9b13d8c0"
      },
      "source": [
        "#logaritmo Nepteriano de x = ln(x)\n",
        "math.log(2.718281828459045)"
      ],
      "execution_count": null,
      "outputs": [
        {
          "output_type": "execute_result",
          "data": {
            "text/plain": [
              "1.0"
            ]
          },
          "metadata": {
            "tags": []
          },
          "execution_count": 44
        }
      ]
    },
    {
      "cell_type": "code",
      "metadata": {
        "colab": {
          "base_uri": "https://localhost:8080/"
        },
        "id": "cSyKumLU2YvM",
        "outputId": "ff9a3804-4fee-4c00-a525-341a7e043b55"
      },
      "source": [
        "#logaritmo na base 10\n",
        "math.log10(100)"
      ],
      "execution_count": null,
      "outputs": [
        {
          "output_type": "execute_result",
          "data": {
            "text/plain": [
              "2.0"
            ]
          },
          "metadata": {
            "tags": []
          },
          "execution_count": 45
        }
      ]
    },
    {
      "cell_type": "code",
      "metadata": {
        "colab": {
          "base_uri": "https://localhost:8080/"
        },
        "id": "tgm7dNK62jLm",
        "outputId": "b7be24e0-2a26-461a-ad83-2a5a0934b127"
      },
      "source": [
        "#logaritmo na Base 2 de x\n",
        "math.log2(8)"
      ],
      "execution_count": null,
      "outputs": [
        {
          "output_type": "execute_result",
          "data": {
            "text/plain": [
              "3.0"
            ]
          },
          "metadata": {
            "tags": []
          },
          "execution_count": 46
        }
      ]
    },
    {
      "cell_type": "code",
      "metadata": {
        "colab": {
          "base_uri": "https://localhost:8080/"
        },
        "id": "TXV90GcT2xLm",
        "outputId": "91a0c49b-bd5c-41a1-a2b6-19587f97f80c"
      },
      "source": [
        "#math.log1p(x) = ln(1+x)\n",
        "math.log1p(1.718281828459045)"
      ],
      "execution_count": null,
      "outputs": [
        {
          "output_type": "execute_result",
          "data": {
            "text/plain": [
              "1.0"
            ]
          },
          "metadata": {
            "tags": []
          },
          "execution_count": 47
        }
      ]
    },
    {
      "cell_type": "code",
      "metadata": {
        "colab": {
          "base_uri": "https://localhost:8080/"
        },
        "id": "54gBcO0n3EfY",
        "outputId": "4f700399-ee50-4236-ff83-caecfbf1b94a"
      },
      "source": [
        "#Logaritmo de a na Base b\n",
        "#math.log(a,b)\n",
        "math.log(27,3)"
      ],
      "execution_count": null,
      "outputs": [
        {
          "output_type": "execute_result",
          "data": {
            "text/plain": [
              "3.0"
            ]
          },
          "metadata": {
            "tags": []
          },
          "execution_count": 49
        }
      ]
    },
    {
      "cell_type": "markdown",
      "metadata": {
        "id": "rX_UZcr7paDy"
      },
      "source": [
        "## **Conversão de x GRAUS para RADIANOS**\n"
      ]
    },
    {
      "cell_type": "code",
      "metadata": {
        "colab": {
          "base_uri": "https://localhost:8080/"
        },
        "id": "zpg1Id8Kwx0F",
        "outputId": "0515c613-67c4-4b78-ff1f-56150a00299e"
      },
      "source": [
        "Vg = float(input(\"Digite ângulo em graus: \"))\n",
        "x = math.radians(Vg)\n",
        "Vrad = x\n",
        "print(\"x em RADIANOS = \" + str(x))"
      ],
      "execution_count": null,
      "outputs": [
        {
          "output_type": "stream",
          "text": [
            "Digite ângulo em graus: 30\n",
            "x em RADIANOS = 0.5235987755982988\n"
          ],
          "name": "stdout"
        }
      ]
    },
    {
      "cell_type": "markdown",
      "metadata": {
        "id": "oqia38nKy1au"
      },
      "source": [
        "## **2.5.1 - FUNÇÕES TRIGONOMÁTRICAS**\n",
        "#OBS: Necessário converter ângulo x para RADIANOS"
      ]
    },
    {
      "cell_type": "markdown",
      "metadata": {
        "id": "C1t5vA0MyzYF"
      },
      "source": [
        "#SENO(X)"
      ]
    },
    {
      "cell_type": "code",
      "metadata": {
        "colab": {
          "base_uri": "https://localhost:8080/"
        },
        "id": "eykz_ukRyx7c",
        "outputId": "da1a54e3-15cd-40ed-e566-c5a2bb5c1534"
      },
      "source": [
        "round(math.sin(x), 2)"
      ],
      "execution_count": null,
      "outputs": [
        {
          "output_type": "execute_result",
          "data": {
            "text/plain": [
              "0.5"
            ]
          },
          "metadata": {
            "tags": []
          },
          "execution_count": 53
        }
      ]
    },
    {
      "cell_type": "markdown",
      "metadata": {
        "id": "RRLk-EGBywjN"
      },
      "source": [
        "#COSSENO(X)"
      ]
    },
    {
      "cell_type": "code",
      "metadata": {
        "colab": {
          "base_uri": "https://localhost:8080/"
        },
        "id": "LvoRsmjayvbw",
        "outputId": "48198823-5f91-4703-fa05-10a457a728ad"
      },
      "source": [
        "math.cos(x)"
      ],
      "execution_count": null,
      "outputs": [
        {
          "output_type": "execute_result",
          "data": {
            "text/plain": [
              "0.8660254037844387"
            ]
          },
          "metadata": {
            "tags": []
          },
          "execution_count": 54
        }
      ]
    },
    {
      "cell_type": "markdown",
      "metadata": {
        "id": "iB0TTzzRyso6"
      },
      "source": [
        "#TANGENTE(x)"
      ]
    },
    {
      "cell_type": "code",
      "metadata": {
        "colab": {
          "base_uri": "https://localhost:8080/"
        },
        "id": "aDy-ZON8yrSg",
        "outputId": "574d7a73-fa48-49d1-e4ea-dc474bf1165a"
      },
      "source": [
        "math.tan(x)"
      ],
      "execution_count": null,
      "outputs": [
        {
          "output_type": "execute_result",
          "data": {
            "text/plain": [
              "0.5773502691896257"
            ]
          },
          "metadata": {
            "tags": []
          },
          "execution_count": 55
        }
      ]
    },
    {
      "cell_type": "markdown",
      "metadata": {
        "id": "vrOaxArqyp6Y"
      },
      "source": [
        "#ARCO-SENO"
      ]
    },
    {
      "cell_type": "code",
      "metadata": {
        "colab": {
          "base_uri": "https://localhost:8080/"
        },
        "id": "Dm7O85FFyosR",
        "outputId": "0309a60b-1988-49da-9162-ea07091c67d5"
      },
      "source": [
        "math.asin(x)"
      ],
      "execution_count": null,
      "outputs": [
        {
          "output_type": "execute_result",
          "data": {
            "text/plain": [
              "0.5510695830994463"
            ]
          },
          "metadata": {
            "tags": []
          },
          "execution_count": 56
        }
      ]
    },
    {
      "cell_type": "markdown",
      "metadata": {
        "id": "edXIO2izynZm"
      },
      "source": [
        "#ARCO-COSSENO"
      ]
    },
    {
      "cell_type": "code",
      "metadata": {
        "colab": {
          "base_uri": "https://localhost:8080/"
        },
        "id": "xgfqYRm1ymM2",
        "outputId": "bfe97627-19eb-4004-b74b-df9a83a4479b"
      },
      "source": [
        "math.acos(x)"
      ],
      "execution_count": null,
      "outputs": [
        {
          "output_type": "execute_result",
          "data": {
            "text/plain": [
              "1.0197267436954502"
            ]
          },
          "metadata": {
            "tags": []
          },
          "execution_count": 57
        }
      ]
    },
    {
      "cell_type": "markdown",
      "metadata": {
        "id": "cJJGoFjgyjOz"
      },
      "source": [
        "#ARCO-TANGENTE"
      ]
    },
    {
      "cell_type": "code",
      "metadata": {
        "colab": {
          "base_uri": "https://localhost:8080/"
        },
        "id": "JJ21U_r9yhzv",
        "outputId": "d5ad0a84-8a78-4092-9fa1-3a39837f1919"
      },
      "source": [
        "math.atan(x)"
      ],
      "execution_count": null,
      "outputs": [
        {
          "output_type": "execute_result",
          "data": {
            "text/plain": [
              "0.48234790710102493"
            ]
          },
          "metadata": {
            "tags": []
          },
          "execution_count": 58
        }
      ]
    },
    {
      "cell_type": "markdown",
      "metadata": {
        "id": "D0tGCzVWyfvB"
      },
      "source": [
        "#ARCO-TANGENTE2(Y/X)\n",
        "math.atan2(y, x)"
      ]
    },
    {
      "cell_type": "code",
      "metadata": {
        "id": "oPa4D1W-yddP"
      },
      "source": [
        "math.atan2(2, 3)"
      ],
      "execution_count": null,
      "outputs": []
    },
    {
      "cell_type": "markdown",
      "metadata": {
        "id": "HaIx8Fi_xCzt"
      },
      "source": [
        "#COMPRIMENTO DE UM VETOR\n",
        "math.hypot(Coordenadas x, y)\n",
        "\n",
        "#equivale a\n",
        "$\\sqrt{x^2 + y^2}$"
      ]
    },
    {
      "cell_type": "code",
      "metadata": {
        "colab": {
          "base_uri": "https://localhost:8080/"
        },
        "id": "3p4mMkXaxC7a",
        "outputId": "f954d381-da4e-4222-d889-c1f1b27b0455"
      },
      "source": [
        "math.hypot(3, 4)"
      ],
      "execution_count": null,
      "outputs": [
        {
          "output_type": "execute_result",
          "data": {
            "text/plain": [
              "5.0"
            ]
          },
          "metadata": {
            "tags": []
          },
          "execution_count": 59
        }
      ]
    },
    {
      "cell_type": "markdown",
      "metadata": {
        "id": "XXYKlykhw82c"
      },
      "source": [
        "#Conversão de x RADIANOS para GRAUS\n"
      ]
    },
    {
      "cell_type": "code",
      "metadata": {
        "colab": {
          "base_uri": "https://localhost:8080/"
        },
        "id": "sr4ECsouw8-R",
        "outputId": "bb653d1f-aebe-4645-a01e-57c03e584a1d"
      },
      "source": [
        "round(math.degrees(Vrad),2)"
      ],
      "execution_count": null,
      "outputs": [
        {
          "output_type": "execute_result",
          "data": {
            "text/plain": [
              "30.0"
            ]
          },
          "metadata": {
            "tags": []
          },
          "execution_count": 61
        }
      ]
    },
    {
      "cell_type": "markdown",
      "metadata": {
        "id": "Axjpx1-Uwi_H"
      },
      "source": [
        "#Conversão de x GRAUS para RADIANOS"
      ]
    },
    {
      "cell_type": "code",
      "metadata": {
        "id": "nQyHakv6wjRi"
      },
      "source": [
        "math.radians(x)"
      ],
      "execution_count": null,
      "outputs": []
    },
    {
      "cell_type": "markdown",
      "metadata": {
        "id": "bNuaybriweTd"
      },
      "source": [
        "## **2.5.2 - FUNÇÕES HIPERBÓLICAS**\n",
        "#SINH"
      ]
    },
    {
      "cell_type": "code",
      "metadata": {
        "colab": {
          "base_uri": "https://localhost:8080/"
        },
        "id": "Oh1MeEaLwf9q",
        "outputId": "c5bce9ce-374a-44e1-af82-4456879c00ca"
      },
      "source": [
        "math.sinh(x)"
      ],
      "execution_count": null,
      "outputs": [
        {
          "output_type": "execute_result",
          "data": {
            "text/plain": [
              "0.5478534738880397"
            ]
          },
          "metadata": {
            "tags": []
          },
          "execution_count": 62
        }
      ]
    },
    {
      "cell_type": "markdown",
      "metadata": {
        "id": "daxwDJ4NwRy0"
      },
      "source": [
        "#COSH"
      ]
    },
    {
      "cell_type": "code",
      "metadata": {
        "colab": {
          "base_uri": "https://localhost:8080/"
        },
        "id": "z_K1z5OjwSBQ",
        "outputId": "e2d97abd-635a-432f-dc74-4ad73f9f91ff"
      },
      "source": [
        "math.cosh(1.1547005383792515)"
      ],
      "execution_count": null,
      "outputs": [
        {
          "output_type": "execute_result",
          "data": {
            "text/plain": [
              "1.744112480153778"
            ]
          },
          "metadata": {
            "tags": []
          },
          "execution_count": 63
        }
      ]
    },
    {
      "cell_type": "markdown",
      "metadata": {
        "id": "eioSCo0WwL35"
      },
      "source": [
        "#TANH"
      ]
    },
    {
      "cell_type": "code",
      "metadata": {
        "colab": {
          "base_uri": "https://localhost:8080/"
        },
        "id": "h15H-MjmwMC8",
        "outputId": "caaf1d61-cce8-49b2-aaed-b526cc860644"
      },
      "source": [
        "math.tanh(x)"
      ],
      "execution_count": null,
      "outputs": [
        {
          "output_type": "execute_result",
          "data": {
            "text/plain": [
              "0.4804727781564516"
            ]
          },
          "metadata": {
            "tags": []
          },
          "execution_count": 64
        }
      ]
    },
    {
      "cell_type": "markdown",
      "metadata": {
        "id": "NeTodukQwGfH"
      },
      "source": [
        "#ACOSH\n",
        "#Retorna o inverso do cosseno hyperbolica de x."
      ]
    },
    {
      "cell_type": "code",
      "metadata": {
        "colab": {
          "base_uri": "https://localhost:8080/"
        },
        "id": "_aCQ5enSwGoS",
        "outputId": "5467d5dd-86ce-41c1-d6d0-8e5b5410b534"
      },
      "source": [
        "math.acosh(1.1547005383792515)"
      ],
      "execution_count": null,
      "outputs": [
        {
          "output_type": "execute_result",
          "data": {
            "text/plain": [
              "0.5493061443340548"
            ]
          },
          "metadata": {
            "tags": []
          },
          "execution_count": 65
        }
      ]
    },
    {
      "cell_type": "markdown",
      "metadata": {
        "id": "pZdq9N91v5P0"
      },
      "source": [
        "#ASINH\n",
        "#Retorna o inverso do seno hyperbolica de x."
      ]
    },
    {
      "cell_type": "code",
      "metadata": {
        "colab": {
          "base_uri": "https://localhost:8080/"
        },
        "id": "J7o3SlJYv5d3",
        "outputId": "254eadbc-c9cb-4fbe-ad45-5c92e4c541bc"
      },
      "source": [
        "math.asinh(x)"
      ],
      "execution_count": null,
      "outputs": [
        {
          "output_type": "execute_result",
          "data": {
            "text/plain": [
              "0.5022189850346115"
            ]
          },
          "metadata": {
            "tags": []
          },
          "execution_count": 66
        }
      ]
    },
    {
      "cell_type": "markdown",
      "metadata": {
        "id": "V0V-mv4xvyTE"
      },
      "source": [
        "#ATANH\n",
        "##Retorna o inverso da tangente hyperbolica de x."
      ]
    },
    {
      "cell_type": "code",
      "metadata": {
        "colab": {
          "base_uri": "https://localhost:8080/"
        },
        "id": "MQcLyqBEvykC",
        "outputId": "6571ef29-0547-4790-bd7a-0a79406fc449"
      },
      "source": [
        "math.atanh(x)"
      ],
      "execution_count": null,
      "outputs": [
        {
          "output_type": "execute_result",
          "data": {
            "text/plain": [
              "0.581285011694723"
            ]
          },
          "metadata": {
            "tags": []
          },
          "execution_count": 67
        }
      ]
    },
    {
      "cell_type": "markdown",
      "metadata": {
        "id": "lN9q5fK1Do57"
      },
      "source": [
        "### **AD15 - Aula02) EXERCÍCIOS PARA PRATICAR:**\n",
        "\n",
        "#01) Faça um programa em Python que lê uma letra do alfabeto do teclado. Se o usuário digitar a, e, i, o ou u, seu programa deve exibir uma mensagem indicando que a letra digitada é uma vogal. Caso contrário, o programa deve exibir uma mensagem indicando que a letra é uma consoante.\n",
        "\n",
        "#02) Faça um programa em Python que determina o nome de um polígono a partir da sua quantidade de lados. O usuário irá digitar o número de lados pelo teclado e em seguida, será exibido o nome do polígono como mensagem. Considere polígonos entre 4 e 10 lados. Se um número de lados de fora deste intervalo, o programa deve exibir uma mensagem de erro apropriada.\n",
        "\n",
        "#03) Escreva um programa que peça ao usuário para inserir dois números diferentes. Realize operações aritméticas básicas com base nas escolhas (1-ADIÇÃO, 2-SUBTRAÇÃO, 3-MULTIPLICAÇÃO e 4-DIVISÃO).\n"
      ]
    }
  ]
}